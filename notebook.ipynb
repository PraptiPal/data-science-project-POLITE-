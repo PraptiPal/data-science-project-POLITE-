{
 "metadata": {
  "language_info": {
   "codemirror_mode": {
    "name": "ipython",
    "version": 3
   },
   "file_extension": ".py",
   "mimetype": "text/x-python",
   "name": "python",
   "nbconvert_exporter": "python",
   "pygments_lexer": "ipython3",
   "version": "3.7.3"
  },
  "orig_nbformat": 2,
  "kernelspec": {
   "name": "python373jvsc74a57bd02b9cd5c3ec4eb793e30b3fe22fb3034f3d8c9722bad10f4cedbbd7faa7e7f261",
   "display_name": "Python 3.7.3 64-bit ('base': conda)"
  },
  "metadata": {
   "interpreter": {
    "hash": "e3cdbe8a4cbcf48cbe52297e7f23bd3a3b09753baa17fe0d0cb997ee753577a1"
   }
  }
 },
 "nbformat": 4,
 "nbformat_minor": 2,
 "cells": [
  {
   "cell_type": "code",
   "execution_count": 1,
   "metadata": {},
   "outputs": [],
   "source": [
    "import re"
   ]
  },
  {
   "cell_type": "code",
   "execution_count": 1,
   "metadata": {},
   "outputs": [],
   "source": [
    "import tweepy\n",
    "import logging\n",
    "import os\n",
    "\n",
    "logger = logging.getLogger()\n",
    "\n",
    "\n",
    "def create_api():\n",
    "    consumer_key = \"fok4Pu0OuWz4DTFQCB7SEl3Yt\"\n",
    "    consumer_secret = \"eziGfY2pKr3vUG8o1H6usXDj7j3GyYTJT6TLaW8oAZLYItUph5\"\n",
    "    access_token = \"922446690216374272-SaHTiSeOgJE5bLR5eHwg4hUrQr0ftTN\"\n",
    "    access_token_secret = \"ZqnqmEKlwc3ilWDbliCbN4uQMGg3MT6iCUb0E8cKuuV4S\"\n",
    "\n",
    "    auth = tweepy.OAuthHandler(consumer_key, consumer_secret)\n",
    "    auth.set_access_token(access_token, access_token_secret)\n",
    "    api = tweepy.API(auth, wait_on_rate_limit=True,\n",
    "                     wait_on_rate_limit_notify=True)\n",
    "    try:\n",
    "        api.verify_credentials()\n",
    "        print('verified successfully')\n",
    "    except Exception as e:\n",
    "        logger.error(\"Error creating API\", exc_info=True)\n",
    "        raise e\n",
    "    logger.info(\"API created\")\n",
    "    return api"
   ]
  },
  {
   "cell_type": "code",
   "execution_count": 2,
   "metadata": {},
   "outputs": [
    {
     "output_type": "stream",
     "name": "stdout",
     "text": [
      "verified successfully\n"
     ]
    }
   ],
   "source": [
    "api = create_api()"
   ]
  },
  {
   "cell_type": "code",
   "execution_count": 3,
   "metadata": {},
   "outputs": [],
   "source": [
    "def fetchTweets(keyword, c=100):\n",
    "    print('tweets fetched')\n",
    "    tweets_data = api.search(keyword, count=c)\n",
    "    # print(tweets_data[0])\n",
    "\n",
    "    raw_tweets = []\n",
    "    for tweet in tweets_data:\n",
    "        raw_tweets.append(tweet.text)\n",
    "    cleaned_tweets = cleanTweets(raw_tweets)\n",
    "\n",
    "    return cleaned_tweets, tweets_data\n",
    "\n",
    "\n",
    "def cleanTweets(tweets):\n",
    "\n",
    "    cleanedtweets = []\n",
    "    for twt in tweets:\n",
    "        tweet = list()\n",
    "        word = twt.split()\n",
    "        for w in word:\n",
    "            tweet.append(w)\n",
    "        tweet = [re.sub(r'[^A-Za-z0-9]+', '', x) for x in tweet]\n",
    "        cleanedtweets.append(' '.join(tweet))\n",
    "\n",
    "    return cleanedtweets"
   ]
  },
  {
   "cell_type": "code",
   "execution_count": 45,
   "metadata": {},
   "outputs": [
    {
     "output_type": "stream",
     "name": "stdout",
     "text": [
      "tweets fetched\n"
     ]
    }
   ],
   "source": [
    "tweets, tweet_data = fetchTweets('@SrBachchan')"
   ]
  },
  {
   "cell_type": "code",
   "execution_count": 12,
   "metadata": {},
   "outputs": [],
   "source": [
    "from textblob import TextBlob"
   ]
  },
  {
   "cell_type": "code",
   "execution_count": 34,
   "metadata": {},
   "outputs": [
    {
     "output_type": "stream",
     "name": "stdout",
     "text": [
      "{'positive': 64, 'neutral': 28, 'negative': 8}\n"
     ]
    },
    {
     "output_type": "execute_result",
     "data": {
      "text/plain": [
       "[0.0,\n",
       " 0.26666666666666666,\n",
       " 0.625,\n",
       " 0.0,\n",
       " 0.0,\n",
       " 0.0,\n",
       " 0.0,\n",
       " 0.0,\n",
       " 0.8214285714285714,\n",
       " 0.8214285714285714,\n",
       " 0.25,\n",
       " 0.25,\n",
       " 0.41666666666666663,\n",
       " 0.5,\n",
       " 0.5,\n",
       " 0.5,\n",
       " 0.5,\n",
       " 0.0,\n",
       " 0.31666666666666665,\n",
       " 0.2,\n",
       " 0.2,\n",
       " 0.25,\n",
       " 0.2,\n",
       " 0.0,\n",
       " 0.9,\n",
       " 0.25,\n",
       " 0.25,\n",
       " 0.75,\n",
       " 0.9,\n",
       " 0.21666666666666667,\n",
       " 0.2833333333333334,\n",
       " 0.0,\n",
       " 0.25,\n",
       " 0.4,\n",
       " 0.4,\n",
       " 0.0,\n",
       " 0.0,\n",
       " 0.0,\n",
       " 0.0,\n",
       " 1.0,\n",
       " 0.25,\n",
       " 0.0,\n",
       " 0.2833333333333334,\n",
       " 0.0,\n",
       " 0.31666666666666665,\n",
       " 0.31666666666666665,\n",
       " 1.0,\n",
       " 0.2833333333333334,\n",
       " 0.2833333333333334,\n",
       " 0.2833333333333334,\n",
       " 0.25,\n",
       " 0.31666666666666665,\n",
       " 0.25,\n",
       " 0.25,\n",
       " 0.0,\n",
       " 0.25,\n",
       " 0.25,\n",
       " 0.25,\n",
       " 0.25,\n",
       " 0.25,\n",
       " 0.31666666666666665,\n",
       " 0.31666666666666665,\n",
       " 0.0,\n",
       " 0.5,\n",
       " 0.0,\n",
       " 0.31666666666666665,\n",
       " 0.225,\n",
       " 0.0,\n",
       " 0.0,\n",
       " 0.0,\n",
       " 0.26666666666666666,\n",
       " 0.5,\n",
       " 0.0,\n",
       " 0.0,\n",
       " 0.0,\n",
       " 0.41666666666666663,\n",
       " 0.9,\n",
       " 0.45454545454545453,\n",
       " 0.9,\n",
       " 0.9,\n",
       " 0.9,\n",
       " 0.9,\n",
       " 0.9,\n",
       " 0.41666666666666663,\n",
       " 0.0,\n",
       " 0.3,\n",
       " 0.4,\n",
       " 0.4,\n",
       " 0.2833333333333334,\n",
       " 0.2833333333333334,\n",
       " 0.8000000000000002,\n",
       " 0.5625,\n",
       " 1.0,\n",
       " 0.0,\n",
       " 1.0,\n",
       " 0.25,\n",
       " 0.9,\n",
       " 0.125,\n",
       " 0.0,\n",
       " 0.75]"
      ]
     },
     "metadata": {},
     "execution_count": 34
    }
   ],
   "source": [
    "sentimentList = {}.fromkeys(['positive', 'neutral', 'negative'], 0)\n",
    "subject=[]\n",
    "for tweet in tweets:\n",
    "    blob = TextBlob(tweet)\n",
    "    sub=blob.subjectivity\n",
    "    subject.append(sub)\n",
    "    if(blob.sentiment.polarity > 0):\n",
    "        sentimentList['positive'] += 1\n",
    "    elif(blob.sentiment.polarity < 0):\n",
    "        sentimentList['negative'] += 1\n",
    "    elif(blob.sentiment.polarity == 0):\n",
    "        sentimentList['neutral'] += 1\n",
    "\n",
    "\n",
    "\n",
    "print(sentimentList)\n",
    "subject"
   ]
  },
  {
   "cell_type": "code",
   "execution_count": null,
   "metadata": {},
   "outputs": [],
   "source": []
  },
  {
   "cell_type": "code",
   "execution_count": 6,
   "metadata": {},
   "outputs": [],
   "source": [
    "text = ' '.join(tweets)"
   ]
  },
  {
   "cell_type": "code",
   "execution_count": 11,
   "metadata": {},
   "outputs": [],
   "source": [
    "import wordcloud"
   ]
  },
  {
   "cell_type": "code",
   "execution_count": 14,
   "metadata": {},
   "outputs": [],
   "source": [
    "cloud = wordcloud.WordCloud(width = 800, height = 600).generate(text)"
   ]
  },
  {
   "cell_type": "code",
   "execution_count": 17,
   "metadata": {},
   "outputs": [
    {
     "output_type": "execute_result",
     "data": {
      "text/plain": [
       "<wordcloud.wordcloud.WordCloud at 0x20113064278>"
      ]
     },
     "metadata": {},
     "execution_count": 17
    }
   ],
   "source": [
    "cloud.to_file('cloud.png')"
   ]
  },
  {
   "cell_type": "code",
   "execution_count": 42,
   "metadata": {},
   "outputs": [],
   "source": [
    "tweets_data = api.search('@SrBachchan', count=150)"
   ]
  },
  {
   "cell_type": "code",
   "execution_count": null,
   "metadata": {},
   "outputs": [],
   "source": [
    "for tweet in tweets_data:\n",
    "    print(tweet.text)\n",
    "    print()"
   ]
  },
  {
   "cell_type": "code",
   "execution_count": 23,
   "metadata": {},
   "outputs": [
    {
     "output_type": "execute_result",
     "data": {
      "text/plain": [
       "50"
      ]
     },
     "metadata": {},
     "execution_count": 23
    }
   ],
   "source": [
    "len(tweets_data)"
   ]
  },
  {
   "cell_type": "code",
   "execution_count": 11,
   "metadata": {},
   "outputs": [],
   "source": [
    "import re\n",
    "tweet = \"RT @ThePSF: The PSF is featured in a Humble Book Bundle alongside the NoStarch Foundation! Check out all the titles available here: https:/…\""
   ]
  },
  {
   "cell_type": "code",
   "execution_count": 8,
   "metadata": {},
   "outputs": [
    {
     "output_type": "stream",
     "name": "stdout",
     "text": [
      "['RT', 'ThePSF', 'The', 'PSF', 'is', 'featured', 'in', 'a', 'Humble', 'Book', 'Bundle', 'alongside', 'the', 'NoStarch', 'Foundation', 'Check', 'out', 'all', 'the', 'titles', 'available', 'here', 'https']\n"
     ]
    }
   ],
   "source": [
    "lines = list()\n",
    "for line in [tweet]:    \n",
    "    words = line.split()\n",
    "    for w in words: \n",
    "       lines.append(w)\n",
    "lines = [re.sub(r'[^A-Za-z0-9]+', '', x) for x in lines]\n",
    "print(lines)\n"
   ]
  },
  {
   "cell_type": "code",
   "execution_count": 13,
   "metadata": {},
   "outputs": [
    {
     "output_type": "stream",
     "name": "stdout",
     "text": [
      "RTThePSFThePSFisfeaturedinaHumbleBookBundlealongsidetheNoStarchFoundationCheckoutallthetitlesavailableherehttps\n"
     ]
    }
   ],
   "source": [
    "for twt in [tweet]:\n",
    "    new = ''.join([re.sub(r'[^A-Za-z0-9]+', '', x) for x in twt])\n",
    "print(new)"
   ]
  },
  {
   "cell_type": "code",
   "execution_count": 49,
   "metadata": {
    "tags": []
   },
   "outputs": [
    {
     "output_type": "stream",
     "name": "stdout",
     "text": [
      "{'iso_language_code': 'und', 'result_type': 'recent'}\ncreated_at\nid\nid_str\ntext\ntruncated\nentities\nmetadata\nsource\nin_reply_to_status_id\nin_reply_to_status_id_str\nin_reply_to_user_id\nin_reply_to_user_id_str\nin_reply_to_screen_name\nuser\ngeo\ncoordinates\nplace\ncontributors\nis_quote_status\nretweet_count\nfavorite_count\nfavorited\nretweeted\nlang\n"
     ]
    }
   ],
   "source": [
    "for d in tweet_data[:1]:\n",
    "    print(d._json['metadata'])\n",
    "    for i in d._json.keys():\n",
    "        print(i)"
   ]
  },
  {
   "cell_type": "code",
   "execution_count": 4,
   "metadata": {},
   "outputs": [],
   "source": [
    "user = api.get_user('@SrBachchan')"
   ]
  },
  {
   "cell_type": "code",
   "execution_count": 5,
   "metadata": {},
   "outputs": [
    {
     "output_type": "execute_result",
     "data": {
      "text/plain": [
       "dict_keys(['id', 'id_str', 'name', 'screen_name', 'location', 'profile_location', 'description', 'url', 'entities', 'protected', 'followers_count', 'friends_count', 'listed_count', 'created_at', 'favourites_count', 'utc_offset', 'time_zone', 'geo_enabled', 'verified', 'statuses_count', 'lang', 'status', 'contributors_enabled', 'is_translator', 'is_translation_enabled', 'profile_background_color', 'profile_background_image_url', 'profile_background_image_url_https', 'profile_background_tile', 'profile_image_url', 'profile_image_url_https', 'profile_banner_url', 'profile_link_color', 'profile_sidebar_border_color', 'profile_sidebar_fill_color', 'profile_text_color', 'profile_use_background_image', 'has_extended_profile', 'default_profile', 'default_profile_image', 'following', 'follow_request_sent', 'notifications', 'translator_type', 'withheld_in_countries'])"
      ]
     },
     "metadata": {},
     "execution_count": 5
    }
   ],
   "source": [
    "user._json.keys()"
   ]
  },
  {
   "cell_type": "code",
   "execution_count": null,
   "metadata": {},
   "outputs": [],
   "source": [
    "name, profile description , verified , profile_image_url "
   ]
  },
  {
   "cell_type": "code",
   "execution_count": 6,
   "metadata": {},
   "outputs": [
    {
     "output_type": "execute_result",
     "data": {
      "text/plain": [
       "'Amitabh Bachchan'"
      ]
     },
     "metadata": {},
     "execution_count": 6
    }
   ],
   "source": [
    "user._json['screen_name']"
   ]
  },
  {
   "cell_type": "code",
   "execution_count": 1,
   "metadata": {},
   "outputs": [],
   "source": [
    "d = {'a' : 1}\n",
    "s = f\"{d}\""
   ]
  },
  {
   "cell_type": "code",
   "execution_count": 6,
   "metadata": {},
   "outputs": [
    {
     "output_type": "execute_result",
     "data": {
      "text/plain": [
       "dict"
      ]
     },
     "metadata": {},
     "execution_count": 6
    }
   ],
   "source": [
    "type(eval(s))"
   ]
  },
  {
   "cell_type": "code",
   "execution_count": null,
   "metadata": {},
   "outputs": [],
   "source": []
  }
 ]
}