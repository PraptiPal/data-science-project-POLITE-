{
 "metadata": {
  "language_info": {
   "codemirror_mode": {
    "name": "ipython",
    "version": 3
   },
   "file_extension": ".py",
   "mimetype": "text/x-python",
   "name": "python",
   "nbconvert_exporter": "python",
   "pygments_lexer": "ipython3",
   "version": "3.7.3"
  },
  "orig_nbformat": 2,
  "kernelspec": {
   "name": "python373jvsc74a57bd02b9cd5c3ec4eb793e30b3fe22fb3034f3d8c9722bad10f4cedbbd7faa7e7f261",
   "display_name": "Python 3.7.3 64-bit ('base': conda)"
  }
 },
 "nbformat": 4,
 "nbformat_minor": 2,
 "cells": [
  {
   "cell_type": "code",
   "execution_count": 1,
   "metadata": {},
   "outputs": [],
   "source": [
    "import tweepy\n",
    "import logging\n",
    "import os\n",
    "\n",
    "logger = logging.getLogger()\n",
    "\n",
    "\n",
    "def create_api():\n",
    "    consumer_key = \"fok4Pu0OuWz4DTFQCB7SEl3Yt\"\n",
    "    consumer_secret = \"eziGfY2pKr3vUG8o1H6usXDj7j3GyYTJT6TLaW8oAZLYItUph5\"\n",
    "    access_token = \"922446690216374272-SaHTiSeOgJE5bLR5eHwg4hUrQr0ftTN\"\n",
    "    access_token_secret = \"ZqnqmEKlwc3ilWDbliCbN4uQMGg3MT6iCUb0E8cKuuV4S\"\n",
    "\n",
    "    auth = tweepy.OAuthHandler(consumer_key, consumer_secret)\n",
    "    auth.set_access_token(access_token, access_token_secret)\n",
    "    api = tweepy.API(auth, wait_on_rate_limit=True,\n",
    "                     wait_on_rate_limit_notify=True)\n",
    "    try:\n",
    "        api.verify_credentials()\n",
    "        print('verified successfully')\n",
    "    except Exception as e:\n",
    "        logger.error(\"Error creating API\", exc_info=True)\n",
    "        raise e\n",
    "    logger.info(\"API created\")\n",
    "    return api"
   ]
  },
  {
   "cell_type": "code",
   "execution_count": 2,
   "metadata": {},
   "outputs": [
    {
     "output_type": "stream",
     "name": "stdout",
     "text": [
      "verified successfully\n"
     ]
    }
   ],
   "source": [
    "api = create_api()"
   ]
  },
  {
   "cell_type": "code",
   "execution_count": 24,
   "metadata": {},
   "outputs": [],
   "source": [
    "tweets_data = api.search('@ThePSF', count=150)"
   ]
  },
  {
   "cell_type": "code",
   "execution_count": 25,
   "metadata": {},
   "outputs": [
    {
     "output_type": "stream",
     "name": "stdout",
     "text": [
      "RT @abeaujean: Hello Twitter, je cherche encore un développeur #Python @ThePSF pour venir travailler avec moi chez @GroupeIliad @free ! N’h…\n\nRT @abeaujean: Hello Twitter, je cherche encore un développeur #Python @ThePSF pour venir travailler avec moi chez @GroupeIliad @free ! N’h…\n\nRT @ThePSF: Did you know that @ThePSF has provided grants in 91 countries over that past 20 years? Let's try to support Pythonistas in ever…\n\nRT @abeaujean: Hello Twitter, je cherche encore un développeur #Python @ThePSF pour venir travailler avec moi chez @GroupeIliad @free ! N’h…\n\nRT @nostarch: Our latest @Humble Bundle deal is live! Pay what you want for 15 of our bestselling Python books + your purchase benefits @Th…\n\nRT @abeaujean: Hello Twitter, je cherche encore un développeur #Python @ThePSF pour venir travailler avec moi chez @GroupeIliad @free ! N’h…\n\nRT @abeaujean: Hello Twitter, je cherche encore un développeur #Python @ThePSF pour venir travailler avec moi chez @GroupeIliad @free ! N’h…\n\nRT @abeaujean: Hello Twitter, je cherche encore un développeur #Python @ThePSF pour venir travailler avec moi chez @GroupeIliad @free ! N’h…\n\nRT @abeaujean: Hello Twitter, je cherche encore un développeur #Python @ThePSF pour venir travailler avec moi chez @GroupeIliad @free ! N’h…\n\nRT @abeaujean: Hello Twitter, je cherche encore un développeur #Python @ThePSF pour venir travailler avec moi chez @GroupeIliad @free ! N’h…\n\nRT @abeaujean: Hello Twitter, je cherche encore un développeur #Python @ThePSF pour venir travailler avec moi chez @GroupeIliad @free ! N’h…\n\n@iifawzi_ @gsoc @ThePSF @eosdesignsystem Congratulations 🎉\n\nRT @abeaujean: Hello Twitter, je cherche encore un développeur #Python @ThePSF pour venir travailler avec moi chez @GroupeIliad @free ! N’h…\n\nHello Twitter, je cherche encore un développeur #Python @ThePSF pour venir travailler avec moi chez @GroupeIliad… https://t.co/JBZhts4SaI\n\nRT @ThePSF: Our #PSFSpringFundraiser is happening now. Donate any amount, but if you give $99+ or become a PSF supporting member ($99 per y…\n\nRT @ThePSF: Day four of our trivia game:\n\nQuestion 4! Which year did the “International Python Conference” get the name “PyCon\"? \nBonus que…\n\nRT @nostarch: Our latest @Humble Bundle deal is live! Pay what you want for 15 of our bestselling Python books + your purchase benefits @Th…\n\nRT @ThePSF: The PSF is featured in a Humble Book Bundle alongside the NoStarch Foundation! Check out all the titles available here: https:/…\n\nRT @nostarch: Our latest @Humble Bundle deal is live! Pay what you want for 15 of our bestselling Python books + your purchase benefits @Th…\n\nDo you want to support the @ThePSF and get some great Python books at the same time? Check out the current Humble B… https://t.co/ZjK3DMzdZj\n\n@ThePSF Posted... \nhttps://t.co/7h0jOccfUS\n\nRT @ThePSF: Our #PSFSpringFundraiser is happening now. Donate any amount, but if you give $99+ or become a PSF supporting member ($99 per y…\n\n@Pytlicek @ThePSF Thanks for sharing details, Tomas. Will check the shared link. 🙏🤝\n\n@sanbhardwaj @ThePSF https://t.co/NehC14z6DJ\n\n@ThePSF Aren't they too much expensive?\n\n@ThePSF How can I become a PSF member and what will be the criteria?\n\nRT @ThePSF: Our #PSFSpringFundraiser is happening now. Donate any amount, but if you give $99+ or become a PSF supporting member ($99 per y…\n\nRT @ThePSF: Our #PSFSpringFundraiser is happening now. Donate any amount, but if you give $99+ or become a PSF supporting member ($99 per y…\n\nRT @ThePSF: Our #PSFSpringFundraiser is happening now. Donate any amount, but if you give $99+ or become a PSF supporting member ($99 per y…\n\nRT @ThePSF: Our #PSFSpringFundraiser is happening now. Donate any amount, but if you give $99+ or become a PSF supporting member ($99 per y…\n\nRT @ThePSF: The PSF is featured in a Humble Book Bundle alongside the NoStarch Foundation! Check out all the titles available here: https:/…\n\n@iifawzi_ @gsoc @ThePSF @eosdesignsystem مبرووووك فوزي ♥️♥️\n\n@anubhavitis @ThePSF @eosdesignsystem Thanks, @anubhavitis\n\n@BongaleNimish @ThePSF @eosdesignsystem Thank you @BongaleNimish\n\n@GregariousGaurv @ThePSF @eosdesignsystem Thanks bro @GregariousGaurv\n\n@mrharsh06 @ThePSF @eosdesignsystem Thanks @mrharsh06\n\nRT @ThePSF: The PSF is featured in a Humble Book Bundle alongside the NoStarch Foundation! Check out all the titles available here: https:/…\n\nRT @nostarch: Our latest @Humble Bundle deal is live! Pay what you want for 15 of our bestselling Python books + your purchase benefits @Th…\n\nRT @ThePSF: Time for question # six!\n\nQuestion 6! What came first, Python 3.0 or 2.7?\n\n#PSF20Questions #PSFSpringFundraiser  \n\nhttps://t.co…\n\nRT @ThePSF: The PSF is featured in a Humble Book Bundle alongside the NoStarch Foundation! Check out all the titles available here: https:/…\n\nRT @PythonDiscord: Congratulations are in order for @JoeBanksDev, @lemonsaurus_rex, and @SebastiaanZeeff for becoming @ThePSF Fellows! \n\nTh…\n\n@Vinayak47427793 @ThePSF @eosdesignsystem Congrats, Vinayak\nMore power to you.\n\n@Vinayak47427793 @ThePSF @eosdesignsystem Congratulations! 🎉✨\n\n@Vinayak47427793 @ThePSF @eosdesignsystem Congratulations bro !\n\nRT @ThePSF: The PSF is featured in a Humble Book Bundle alongside the NoStarch Foundation! Check out all the titles available here: https:/…\n\nRT @nostarch: Our @Humble Bundle has raised over $14k in the first hour for @ThePSF  and @NSPFoundation—thank you! Give yourself the gift o…\n\n@ThePSF Can i download those books in pdf if i buy them ?\n\nRT @ThePSF: Cheers to @ThePSF and Python - 20 &amp; 30 years old this year! Share your stories/pics about what the Python community means to yo…\n\nRT @PawseyCentre: Getting started with #Python on June 16&amp;17 is a workshop aimed at achieving familiarity with @ThePSF. The covers enough P…\n\n@Vinayak47427793 @ThePSF @eosdesignsystem Congrats bhai\n\nRT @nostarch: Our latest @Humble Bundle deal is live! Pay what you want for 15 of our bestselling Python books + your purchase benefits @Th…\n\nRT @nostarch: Our latest @Humble Bundle deal is live! Pay what you want for 15 of our bestselling Python books + your purchase benefits @Th…\n\nRT @nostarch: Our latest @Humble Bundle deal is live! Pay what you want for 15 of our bestselling Python books + your purchase benefits @Th…\n\nRT @ThePSF: The PSF is featured in a Humble Book Bundle alongside the NoStarch Foundation! Check out all the titles available here: https:/…\n\nRT @dhruv_283: #Day3\nToday I learn about databases.\nConnect Django web application to SQLite database. Collect data from user and store in…\n\nRT @nostarch: Our latest @Humble Bundle deal is live! Pay what you want for 15 of our bestselling Python books + your purchase benefits @Th…\n\n@Vinayak47427793 @ThePSF @eosdesignsystem Congratulations bro\n\n@Vinayak47427793 @ThePSF @eosdesignsystem Congratulations bro🥳🎉🎉\n\nRT @ThePSF: The PSF is featured in a Humble Book Bundle alongside the NoStarch Foundation! Check out all the titles available here: https:/…\n\nRT @ThePSF: The PSF is featured in a Humble Book Bundle alongside the NoStarch Foundation! Check out all the titles available here: https:/…\n\nRT @ThePSF: The PSF is featured in a Humble Book Bundle alongside the NoStarch Foundation! Check out all the titles available here: https:/…\n\n@mistwire @nostarch @humble @ThePSF @NSPFoundation :)  fair point.\n\n@nibrahv @nostarch @humble @ThePSF @NSPFoundation If 25$ prevents you from buying a house... 😉\n\nRT @nostarch: Our latest @Humble Bundle deal is live! Pay what you want for 15 of our bestselling Python books + your purchase benefits @Th…\n\n@mistwire @nostarch @humble @ThePSF @NSPFoundation Damnit, @mistwire I'm trying to buy a house...\n\nRT @ThePSF: 2020 was a challenging year for @ThePSF, but it was also a year of celebrations. Find out what last year was like for us in our…\n\nRT @ThePSF: Day four of our trivia game:\n\nQuestion 4! Which year did the “International Python Conference” get the name “PyCon\"? \nBonus que…\n\n@ThePSF Recommended\n\nRT @cmaureir: Are you spending at least 5 hours per month contributing to the Python community (OSS projects, local groups, organizing even…\n\nRT @mistwire: Another PSA - @nostarch and @humble with an amazing #Python learning deal! I have almost all of these books &amp; can attest to t…\n\nRT @ThePSF: The PSF is featured in a Humble Book Bundle alongside the NoStarch Foundation! Check out all the titles available here: https:/…\n\nRT @nostarch: Our latest @Humble Bundle deal is live! Pay what you want for 15 of our bestselling Python books + your purchase benefits @Th…\n\nRT @PawseyCentre: Getting started with #Python on June 16&amp;17 is a workshop aimed at achieving familiarity with @ThePSF. The covers enough P…\n\nGetting started with #Python on June 16&amp;17 is a workshop aimed at achieving familiarity with @ThePSF. The covers en… https://t.co/2XTkRqoXyX\n\n@PythonesiaORG @ThePSF Yuk patungan for kids\n\nRT @ThePSF: The 2021 Python Language Summit: Progress on Running Multiple Python Interpreters in Parallel in the Same Process  https://t.co…\n\nRT @nostarch: Our @Humble Bundle has raised over $14k in the first hour for @ThePSF  and @NSPFoundation—thank you! Give yourself the gift o…\n\nRT @ThePSF: And the answer to question 7 is 2013! \nIf you support the PSF's mission, consider donating during our Spring Fundraiser: https:…\n\nRT @ThePSF: The PSF is featured in a Humble Book Bundle alongside the NoStarch Foundation! Check out all the titles available here: https:/…\n\n@codemouse92 @ThePSF @pycon https://t.co/67efmbpVNC\n\nRT @chrisjrn: This announcement is the culmination of 15 months work between @ThePSF's board and staff, and I'm so pleased! \n\n• We could co…\n\nWitty Technologies &amp; Empowerment Foundation\n@WittyFoundation\n·\n2m\nMeet the speakers for \"Witty Virtual Tech Up\" eve… https://t.co/HEVzTl53Ts\n\nRT @nostarch: Our latest @Humble Bundle deal is live! Pay what you want for 15 of our bestselling Python books + your purchase benefits @Th…\n\nRT @ThePSF: 2020 was a challenging year for @ThePSF, but it was also a year of celebrations. Find out what last year was like for us in our…\n\nMeet the speakers for \"Witty Virtual Tech Up\" event holding virtually from May 31st - June 5th, 2021, tagged \"Tech… https://t.co/Pr24TSlXg7\n\nMeet the speakers for \"Witty Virtual Tech Up\" event holding virtually from May 31st - June 5th, 2021, tagged \"Tech… https://t.co/HI8yp7nxks\n\nRT @ThePSF: Nominations for @ThePSF board are open &amp; can be added via: https://t.co/RJo8SEAmRH. Nominations close on May 31st AoE - that is…\n\n@ThePSF I want python for kids ....\n\nRT @nostarch: Our latest @Humble Bundle deal is live! Pay what you want for 15 of our bestselling Python books + your purchase benefits @Th…\n\nRT @ThePSF: The PSF is featured in a Humble Book Bundle alongside the NoStarch Foundation! Check out all the titles available here: https:/…\n\nRT @nostarch: Our latest @Humble Bundle deal is live! Pay what you want for 15 of our bestselling Python books + your purchase benefits @Th…\n\nRT @ThePSF: The PSF is featured in a Humble Book Bundle alongside the NoStarch Foundation! Check out all the titles available here: https:/…\n\nRT @ThePSF: The PSF is featured in a Humble Book Bundle alongside the NoStarch Foundation! Check out all the titles available here: https:/…\n\nRT @ThePSF: The PSF is featured in a Humble Book Bundle alongside the NoStarch Foundation! Check out all the titles available here: https:/…\n\n@Ahmed_alameldin @gsoc @ThePSF @eosdesignsystem Thank you ahmed! ❤️🎉\n\nRT @webology: 📚 It's that time of year again, and for $18+ this is an incredible value. As a colleague said, any of these books are worth t…\n\nRT @billpollock: It's a Humble Bundle! Turn off the TV and stimulate your brain with these awesome Python books. This Bundle benefits @TheP…\n\nRT @nostarch: Our latest @Humble Bundle deal is live! Pay what you want for 15 of our bestselling Python books + your purchase benefits @Th…\n\nRT @georgically1: Thank you @ThePSF for organizing @pycon. This is my very first PyCon US. Definitely not my last!\n\nRT @nostarch: Our latest @Humble Bundle deal is live! Pay what you want for 15 of our bestselling Python books + your purchase benefits @Th…\n\n"
     ]
    }
   ],
   "source": [
    "for tweet in tweets_data:\n",
    "    print(tweet.text)\n",
    "    print()"
   ]
  },
  {
   "cell_type": "code",
   "execution_count": 23,
   "metadata": {},
   "outputs": [
    {
     "output_type": "execute_result",
     "data": {
      "text/plain": [
       "50"
      ]
     },
     "metadata": {},
     "execution_count": 23
    }
   ],
   "source": [
    "len(tweets_data)"
   ]
  },
  {
   "cell_type": "code",
   "execution_count": 11,
   "metadata": {},
   "outputs": [],
   "source": [
    "import re\n",
    "tweet = \"RT @ThePSF: The PSF is featured in a Humble Book Bundle alongside the NoStarch Foundation! Check out all the titles available here: https:/…\""
   ]
  },
  {
   "cell_type": "code",
   "execution_count": 8,
   "metadata": {},
   "outputs": [
    {
     "output_type": "stream",
     "name": "stdout",
     "text": [
      "['RT', 'ThePSF', 'The', 'PSF', 'is', 'featured', 'in', 'a', 'Humble', 'Book', 'Bundle', 'alongside', 'the', 'NoStarch', 'Foundation', 'Check', 'out', 'all', 'the', 'titles', 'available', 'here', 'https']\n"
     ]
    }
   ],
   "source": [
    "lines = list()\n",
    "for line in [tweet]:    \n",
    "    words = line.split()\n",
    "    for w in words: \n",
    "       lines.append(w)\n",
    "lines = [re.sub(r'[^A-Za-z0-9]+', '', x) for x in lines]\n",
    "print(lines)\n"
   ]
  },
  {
   "cell_type": "code",
   "execution_count": 13,
   "metadata": {},
   "outputs": [
    {
     "output_type": "stream",
     "name": "stdout",
     "text": [
      "RTThePSFThePSFisfeaturedinaHumbleBookBundlealongsidetheNoStarchFoundationCheckoutallthetitlesavailableherehttps\n"
     ]
    }
   ],
   "source": [
    "for twt in [tweet]:\n",
    "    new = ''.join([re.sub(r'[^A-Za-z0-9]+', '', x) for x in twt])\n",
    "print(new)"
   ]
  },
  {
   "cell_type": "code",
   "execution_count": null,
   "metadata": {},
   "outputs": [],
   "source": []
  }
 ]
}