{
 "metadata": {
  "language_info": {
   "codemirror_mode": {
    "name": "ipython",
    "version": 3
   },
   "file_extension": ".py",
   "mimetype": "text/x-python",
   "name": "python",
   "nbconvert_exporter": "python",
   "pygments_lexer": "ipython3",
   "version": "3.9.2"
  },
  "orig_nbformat": 2,
  "kernelspec": {
   "name": "python392jvsc74a57bd0e3cdbe8a4cbcf48cbe52297e7f23bd3a3b09753baa17fe0d0cb997ee753577a1",
   "display_name": "Python 3.9.2 64-bit"
  },
  "metadata": {
   "interpreter": {
    "hash": "e3cdbe8a4cbcf48cbe52297e7f23bd3a3b09753baa17fe0d0cb997ee753577a1"
   }
  }
 },
 "nbformat": 4,
 "nbformat_minor": 2,
 "cells": [
  {
   "cell_type": "code",
   "execution_count": 1,
   "metadata": {},
   "outputs": [],
   "source": [
    "import re"
   ]
  },
  {
   "cell_type": "code",
   "execution_count": 2,
   "metadata": {},
   "outputs": [],
   "source": [
    "import tweepy\n",
    "import logging\n",
    "import os\n",
    "\n",
    "logger = logging.getLogger()\n",
    "\n",
    "\n",
    "def create_api():\n",
    "    consumer_key = \"fok4Pu0OuWz4DTFQCB7SEl3Yt\"\n",
    "    consumer_secret = \"eziGfY2pKr3vUG8o1H6usXDj7j3GyYTJT6TLaW8oAZLYItUph5\"\n",
    "    access_token = \"922446690216374272-SaHTiSeOgJE5bLR5eHwg4hUrQr0ftTN\"\n",
    "    access_token_secret = \"ZqnqmEKlwc3ilWDbliCbN4uQMGg3MT6iCUb0E8cKuuV4S\"\n",
    "\n",
    "    auth = tweepy.OAuthHandler(consumer_key, consumer_secret)\n",
    "    auth.set_access_token(access_token, access_token_secret)\n",
    "    api = tweepy.API(auth, wait_on_rate_limit=True,\n",
    "                     wait_on_rate_limit_notify=True)\n",
    "    try:\n",
    "        api.verify_credentials()\n",
    "        print('verified successfully')\n",
    "    except Exception as e:\n",
    "        logger.error(\"Error creating API\", exc_info=True)\n",
    "        raise e\n",
    "    logger.info(\"API created\")\n",
    "    return api"
   ]
  },
  {
   "cell_type": "code",
   "execution_count": 3,
   "metadata": {},
   "outputs": [
    {
     "output_type": "stream",
     "name": "stdout",
     "text": [
      "verified successfully\n"
     ]
    }
   ],
   "source": [
    "api = create_api()"
   ]
  },
  {
   "cell_type": "code",
   "execution_count": 9,
   "metadata": {},
   "outputs": [],
   "source": [
    "def fetchTweets(keyword, c=100):\n",
    "    print('tweets fetched')\n",
    "    tweets_data = api.search(keyword, count=c)\n",
    "    # print(tweets_data[0])\n",
    "\n",
    "    raw_tweets = []\n",
    "    for tweet in tweets_data:\n",
    "        raw_tweets.append(tweet.text)\n",
    "    cleaned_tweets = cleanTweets(raw_tweets)\n",
    "\n",
    "    return cleaned_tweets\n",
    "\n",
    "\n",
    "def cleanTweets(tweets):\n",
    "\n",
    "    cleanedtweets = []\n",
    "    for twt in tweets:\n",
    "        tweet = list()\n",
    "        word = twt.split()\n",
    "        for w in word:\n",
    "            tweet.append(w)\n",
    "        tweet = [re.sub(r'[^A-Za-z0-9]+', '', x) for x in tweet]\n",
    "        cleanedtweets.append(' '.join(tweet))\n",
    "\n",
    "    return cleanedtweets"
   ]
  },
  {
   "cell_type": "code",
   "execution_count": 10,
   "metadata": {},
   "outputs": [
    {
     "output_type": "stream",
     "name": "stdout",
     "text": [
      "tweets fetched\n"
     ]
    }
   ],
   "source": [
    "tweets = fetchTweets('@ThePSF')"
   ]
  },
  {
   "cell_type": "code",
   "execution_count": 12,
   "metadata": {},
   "outputs": [],
   "source": [
    "from textblob import TextBlob"
   ]
  },
  {
   "cell_type": "code",
   "execution_count": 34,
   "metadata": {},
   "outputs": [
    {
     "output_type": "stream",
     "name": "stdout",
     "text": [
      "{'positive': 64, 'neutral': 28, 'negative': 8}\n"
     ]
    },
    {
     "output_type": "execute_result",
     "data": {
      "text/plain": [
       "[0.0,\n",
       " 0.26666666666666666,\n",
       " 0.625,\n",
       " 0.0,\n",
       " 0.0,\n",
       " 0.0,\n",
       " 0.0,\n",
       " 0.0,\n",
       " 0.8214285714285714,\n",
       " 0.8214285714285714,\n",
       " 0.25,\n",
       " 0.25,\n",
       " 0.41666666666666663,\n",
       " 0.5,\n",
       " 0.5,\n",
       " 0.5,\n",
       " 0.5,\n",
       " 0.0,\n",
       " 0.31666666666666665,\n",
       " 0.2,\n",
       " 0.2,\n",
       " 0.25,\n",
       " 0.2,\n",
       " 0.0,\n",
       " 0.9,\n",
       " 0.25,\n",
       " 0.25,\n",
       " 0.75,\n",
       " 0.9,\n",
       " 0.21666666666666667,\n",
       " 0.2833333333333334,\n",
       " 0.0,\n",
       " 0.25,\n",
       " 0.4,\n",
       " 0.4,\n",
       " 0.0,\n",
       " 0.0,\n",
       " 0.0,\n",
       " 0.0,\n",
       " 1.0,\n",
       " 0.25,\n",
       " 0.0,\n",
       " 0.2833333333333334,\n",
       " 0.0,\n",
       " 0.31666666666666665,\n",
       " 0.31666666666666665,\n",
       " 1.0,\n",
       " 0.2833333333333334,\n",
       " 0.2833333333333334,\n",
       " 0.2833333333333334,\n",
       " 0.25,\n",
       " 0.31666666666666665,\n",
       " 0.25,\n",
       " 0.25,\n",
       " 0.0,\n",
       " 0.25,\n",
       " 0.25,\n",
       " 0.25,\n",
       " 0.25,\n",
       " 0.25,\n",
       " 0.31666666666666665,\n",
       " 0.31666666666666665,\n",
       " 0.0,\n",
       " 0.5,\n",
       " 0.0,\n",
       " 0.31666666666666665,\n",
       " 0.225,\n",
       " 0.0,\n",
       " 0.0,\n",
       " 0.0,\n",
       " 0.26666666666666666,\n",
       " 0.5,\n",
       " 0.0,\n",
       " 0.0,\n",
       " 0.0,\n",
       " 0.41666666666666663,\n",
       " 0.9,\n",
       " 0.45454545454545453,\n",
       " 0.9,\n",
       " 0.9,\n",
       " 0.9,\n",
       " 0.9,\n",
       " 0.9,\n",
       " 0.41666666666666663,\n",
       " 0.0,\n",
       " 0.3,\n",
       " 0.4,\n",
       " 0.4,\n",
       " 0.2833333333333334,\n",
       " 0.2833333333333334,\n",
       " 0.8000000000000002,\n",
       " 0.5625,\n",
       " 1.0,\n",
       " 0.0,\n",
       " 1.0,\n",
       " 0.25,\n",
       " 0.9,\n",
       " 0.125,\n",
       " 0.0,\n",
       " 0.75]"
      ]
     },
     "metadata": {},
     "execution_count": 34
    }
   ],
   "source": [
    "sentimentList = {}.fromkeys(['positive', 'neutral', 'negative'], 0)\n",
    "subject=[]\n",
    "for tweet in tweets:\n",
    "    blob = TextBlob(tweet)\n",
    "    sub=blob.subjectivity\n",
    "    subject.append(sub)\n",
    "    if(blob.sentiment.polarity > 0):\n",
    "        sentimentList['positive'] += 1\n",
    "    elif(blob.sentiment.polarity < 0):\n",
    "        sentimentList['negative'] += 1\n",
    "    elif(blob.sentiment.polarity == 0):\n",
    "        sentimentList['neutral'] += 1\n",
    "\n",
    "\n",
    "\n",
    "print(sentimentList)\n",
    "subject"
   ]
  },
  {
   "cell_type": "code",
   "execution_count": null,
   "metadata": {},
   "outputs": [],
   "source": []
  },
  {
   "cell_type": "code",
   "execution_count": 6,
   "metadata": {},
   "outputs": [],
   "source": [
    "text = ' '.join(tweets)"
   ]
  },
  {
   "cell_type": "code",
   "execution_count": 11,
   "metadata": {},
   "outputs": [],
   "source": [
    "import wordcloud"
   ]
  },
  {
   "cell_type": "code",
   "execution_count": 14,
   "metadata": {},
   "outputs": [],
   "source": [
    "cloud = wordcloud.WordCloud(width = 800, height = 600).generate(text)"
   ]
  },
  {
   "cell_type": "code",
   "execution_count": 17,
   "metadata": {},
   "outputs": [
    {
     "output_type": "execute_result",
     "data": {
      "text/plain": [
       "<wordcloud.wordcloud.WordCloud at 0x20113064278>"
      ]
     },
     "metadata": {},
     "execution_count": 17
    }
   ],
   "source": [
    "cloud.to_file('cloud.png')"
   ]
  },
  {
   "cell_type": "code",
   "execution_count": 7,
   "metadata": {},
   "outputs": [],
   "source": [
    "tweets_data = api.search('@ThePSF', count=150)"
   ]
  },
  {
   "cell_type": "code",
   "execution_count": 8,
   "metadata": {},
   "outputs": [
    {
     "output_type": "stream",
     "name": "stdout",
     "text": [
      "RT @KRKGaming1: Der Frühe Programmierer beseitigt die Bugs. Unser Fröhliche @braastos programmiert fröhlich vor sich hin. Er Programmiert z…\n\nRT @ThePSF: We're celebrating our 20th anniversary! The love &amp; support of our Python family has helped us achieve so much. To continue this…\n\nRT @thebaffledengg: Do you enjoy making looping audio recordings ? i have great news for you . You can make looping audio recordings on you…\n\nRT @framaka: Campagne de dons pour la @ThePSF soutenant le développement du langage de programmation (libre) Python.\nI have a dream: que to…\n\nRT @KRKGaming1: Der Frühe Programmierer beseitigt die Bugs. Unser Fröhliche @braastos programmiert fröhlich vor sich hin. Er Programmiert z…\n\nDer Frühe Programmierer beseitigt die Bugs. Unser Fröhliche @braastos programmiert fröhlich vor sich hin. Er Progra… https://t.co/tbXsBYdKWf\n\nNuevo post de @ciclismo2005 https://t.co/KXQ2DI1QzM #FreeCiclismo2005 Tweet brought to you by @thePSF\n\n@windowsinsider build 21390 testing is going well 👍\n@code Insider edition 1.5.7.0 ✅\n@ThePSF 3.9.5 ✅\n#git 2.31.1 ✅\nC… https://t.co/MjjeWvmvIr\n\nRT @vithushaji: I don't understand why each crypto project is coming up with their own language for smart contract development. Why can't t…\n\nI don't understand why each crypto project is coming up with their own language for smart contract development. Why… https://t.co/msPt2Xxbzd\n\nRT @ThePSF: Thank you to @RedHat for supporting @ThePSF and #PyConUS for nearly 10 years! You are appreciated. https://t.co/1ekYFv46oy\n\nRT @ThePSF: Thank you to @RedHat for supporting @ThePSF and #PyConUS for nearly 10 years! You are appreciated. https://t.co/1ekYFv46oy\n\nRT @ThePSF: Four more trivia questions!\n\nQuestion 17: What was the first assignment operator?\n\n#PSF20Questions #PSFSpringFundraiser\n\nhttps:…\n\nRT @ThePSF: The answer top question 17 is ==.  It was changed to = in Python 1.2 (released on 13 April 1995).\n#PSF20Questions #PSFSpringFun…\n\nRT @ThePSF: The answer top question 17 is ==.  It was changed to = in Python 1.2 (released on 13 April 1995).\n#PSF20Questions #PSFSpringFun…\n\nRT @ThePSF: The answer top question 17 is ==.  It was changed to = in Python 1.2 (released on 13 April 1995).\n#PSF20Questions #PSFSpringFun…\n\nRT @ThePSF: The answer top question 17 is ==.  It was changed to = in Python 1.2 (released on 13 April 1995).\n#PSF20Questions #PSFSpringFun…\n\nRT @framaka: Campagne de dons pour la @ThePSF soutenant le développement du langage de programmation (libre) Python.\nI have a dream: que to…\n\nRT @ThePSF: Check out @ThePSF timeline to see how much we've grown in the past 20 years: https://t.co/ZOz5pbsSme. Help us achieve even more…\n\n@ThePSF @LinkedIn Thank's @LinkedIn .. :)\n\n@ThePSF @RedHat Thank's @RedHat  :)\n\nRT @ThePSF: Thank you to @RedHat for supporting @ThePSF and #PyConUS for nearly 10 years! You are appreciated. https://t.co/1ekYFv46oy\n\n@DenverNowicz @ericakuhl @ThePSF @hollyfirestone Thanks @DenverNowicz !\n\nRT @dennyperez18: Hoy estaré como invitada en el Meetup de la comunidad de @PythonNicaragua , compartiendoles un poco sobre:\n\n“Lo que neces…\n\nRT @ThePSF: Hat's off to @LinkedIn for a decade of @ThePSF support! Our sponsors are truly AMAZING. https://t.co/SqAaK7u0ZG\n\nRT @ThePSF: Thank you to @RedHat for supporting @ThePSF and #PyConUS for nearly 10 years! You are appreciated. https://t.co/1ekYFv46oy\n\nRT @ThePSF: Thank you to @RedHat for supporting @ThePSF and #PyConUS for nearly 10 years! You are appreciated. https://t.co/1ekYFv46oy\n\n@am_tins @ericakuhl @ThePSF @hollyfirestone Great advice!\n\nRT @ThePSF: Hat's off to @LinkedIn for a decade of @ThePSF support! Our sponsors are truly AMAZING. https://t.co/SqAaK7u0ZG\n\n🥳 13 of #ship30for30 \n\nA hidden company benefit that may increase your earnings by up to 50%. 😲 💚\n\nWorth it!\ncc… https://t.co/Ti4OJv2rG7\n\nRT @WillingCarol: Thank you Steering Council members, past and present, and the #python core development community for proving good governa…\n\n@ThePSF \nWe are looking for an expert programmer in the field of trading to create a bot using Python \n1 - BUY and… https://t.co/uCuQja52kr\n\nRT @ThePSF: Thank you to @RedHat for supporting @ThePSF and #PyConUS for nearly 10 years! You are appreciated. https://t.co/1ekYFv46oy\n\nRT @Game_Deals_: Humble Software Bundle: Python Development 🐍\n\nhttps://t.co/68FYy0eNCm @ThePSF #webdev \n\nLearn how to apply the #Python #pr…\n\nHumble Software Bundle: Python Development 🐍\n\nhttps://t.co/68FYy0eNCm @ThePSF #webdev \n\nLearn how to apply the… https://t.co/oeZcdYGn1N\n\n@ThePSF =\n\nRT @framaka: Campagne de dons pour la @ThePSF soutenant le développement du langage de programmation (libre) Python.\nI have a dream: que to…\n\nRT @framaka: Campagne de dons pour la @ThePSF soutenant le développement du langage de programmation (libre) Python.\nI have a dream: que to…\n\nRT @framaka: Campagne de dons pour la @ThePSF soutenant le développement du langage de programmation (libre) Python.\nI have a dream: que to…\n\nRT @ThePSF: Another trivia question for you!\n\nQuestion 15: What was the Grand Renaming? Hint: CNRI\n\n#PSF20Questions #PSFSpringFundraiser\n\nh…\n\nRT @ThePSF: Thank you to @RedHat for supporting @ThePSF and #PyConUS for nearly 10 years! You are appreciated. https://t.co/1ekYFv46oy\n\nRT @Geoccifer: @acmeducation @SparkCognition @Raspberry_Pi @arduino @ThePSF @opencvlibrary @OpenCVPlanet @OpenCVTip @planetarduino @Arduino…\n\nRT @WillingCarol: Thank you Steering Council members, past and present, and the #python core development community for proving good governa…\n\n@acmeducation @SparkCognition @Raspberry_Pi @arduino @ThePSF @opencvlibrary @OpenCVPlanet @OpenCVTip @planetarduino… https://t.co/XZc9um3NXw\n\nRT @ThePSF: Check out @ThePSF timeline to see how much we've grown in the past 20 years: https://t.co/ZOz5pbsSme. Help us achieve even more…\n\nRT @ThePSF: Check out @ThePSF timeline to see how much we've grown in the past 20 years: https://t.co/ZOz5pbsSme. Help us achieve even more…\n\nPart of this is also a realization of my own constraints on participation since I had kids. It was one of the reaso… https://t.co/P1S63MNhex\n\nRT @WillingCarol: Thank you Steering Council members, past and present, and the #python core development community for proving good governa…\n\nRT @WillingCarol: Thank you Steering Council members, past and present, and the #python core development community for proving good governa…\n\nRT @WillingCarol: Thank you Steering Council members, past and present, and the #python core development community for proving good governa…\n\nRT @ThePSF: Thank you to @RedHat for supporting @ThePSF and #PyConUS for nearly 10 years! You are appreciated. https://t.co/1ekYFv46oy\n\nRT @ThePSF: Check out @ThePSF timeline to see how much we've grown in the past 20 years: https://t.co/ZOz5pbsSme. Help us achieve even more…\n\nRT @ThePSF: Thank you to @RedHat for supporting @ThePSF and #PyConUS for nearly 10 years! You are appreciated. https://t.co/1ekYFv46oy\n\nRT @ThePSF: Thank you to @RedHat for supporting @ThePSF and #PyConUS for nearly 10 years! You are appreciated. https://t.co/1ekYFv46oy\n\n@ThePSF Posted... \nhttps://t.co/XeWpR6uwfp\n\nRT @ThePSF: Thank you to @RedHat for supporting @ThePSF and #PyConUS for nearly 10 years! You are appreciated. https://t.co/1ekYFv46oy\n\nRT @ThePSF: Thank you to @RedHat for supporting @ThePSF and #PyConUS for nearly 10 years! You are appreciated. https://t.co/1ekYFv46oy\n\nRT @ThePSF: Thank you to @RedHat for supporting @ThePSF and #PyConUS for nearly 10 years! You are appreciated. https://t.co/1ekYFv46oy\n\nRT @ThePSF: Thank you to @RedHat for supporting @ThePSF and #PyConUS for nearly 10 years! You are appreciated. https://t.co/1ekYFv46oy\n\nThank you to @RedHat for supporting @ThePSF and #PyConUS for nearly 10 years! You are appreciated. https://t.co/1ekYFv46oy\n\nRT @ThePSF: Check out @ThePSF timeline to see how much we've grown in the past 20 years: https://t.co/ZOz5pbsSme. Help us achieve even more…\n\nRT @ThePSF: Check out @ThePSF timeline to see how much we've grown in the past 20 years: https://t.co/ZOz5pbsSme. Help us achieve even more…\n\n@ThePSF =\n\n@ThePSF : Better way to do things: Take a leaf from @MATLAB's book and add collapsible sections\n\nCampagne de dons pour la @ThePSF soutenant le développement du langage de programmation (libre) Python.\nI have a dr… https://t.co/PIFtMyDphs\n\nRT @ThePSF: Check out @ThePSF timeline to see how much we've grown in the past 20 years: https://t.co/ZOz5pbsSme. Help us achieve even more…\n\nCheck out @ThePSF timeline to see how much we've grown in the past 20 years: https://t.co/ZOz5pbsSme. Help us achie… https://t.co/qPgaMsqJsq\n\nRT @dennyperez18: Hoy estaré como invitada en el Meetup de la comunidad de @PythonNicaragua , compartiendoles un poco sobre:\n\n“Lo que neces…\n\nHoy estaré como invitada en el Meetup de la comunidad de @PythonNicaragua , compartiendoles un poco sobre:\n\n“Lo que… https://t.co/nAKTc7hkTb\n\n@Shivai69927137 @planetpython @ThePSF We have plenty of resources you can learn and practice from. https://t.co/3lJ422Te1n\n\nRT @ThePSF: We're celebrating our 20th anniversary! The love &amp; support of our Python family has helped us achieve so much. To continue this…\n\nRT @ThePSF: Did you know @ThePSF has funded more than 39 sprints &amp; awarded $2,804,281 in grants for Python projects worldwide? \n\nDonate tod…\n\nRT @gnu_texmacs: A @ProjectJupyter plugin is also in the workings.... #reproduciblescience #dataanalysis @sagemath @GnuOctave @ThePSF @Juli…\n\n@ThePSF Posted... \nhttps://t.co/V47eBR1d77\n\n@ThePSF =\n\nRT @ThePSF: Four more trivia questions!\n\nQuestion 17: What was the first assignment operator?\n\n#PSF20Questions #PSFSpringFundraiser\n\nhttps:…\n\nRT @ThePSF: Hat's off to @LinkedIn for a decade of @ThePSF support! Our sponsors are truly AMAZING. https://t.co/SqAaK7u0ZG\n\n@Shivai69927137 @ThePSF @planetpython https://t.co/VMlEDudw9R\nClick this link to learn python. Every week new videos\n\nRT @ThePSF: Hat's off to @LinkedIn for a decade of @ThePSF support! Our sponsors are truly AMAZING. https://t.co/SqAaK7u0ZG\n\nRT @ThePSF: Hat's off to @LinkedIn for a decade of @ThePSF support! Our sponsors are truly AMAZING. https://t.co/SqAaK7u0ZG\n\nRT @ThePSF: Hat's off to @LinkedIn for a decade of @ThePSF support! Our sponsors are truly AMAZING. https://t.co/SqAaK7u0ZG\n\nRT @ThePSF: Hat's off to @LinkedIn for a decade of @ThePSF support! Our sponsors are truly AMAZING. https://t.co/SqAaK7u0ZG\n\nHat's off to @LinkedIn for a decade of @ThePSF support! Our sponsors are truly AMAZING. https://t.co/SqAaK7u0ZG\n\nRT @ThePSF: Four more trivia questions!\n\nQuestion 17: What was the first assignment operator?\n\n#PSF20Questions #PSFSpringFundraiser\n\nhttps:…\n\n@ThePSF =\n\nAre you looking for best #webdevelopers?\n\nhttps://t.co/3yjrcALhKo\n\n#Pythonwebdevelopment #pythondjangodevelopment… https://t.co/h8AHezhsf4\n\nRT @ThePSF: The 2021 Python Language Summit: Lightning Talks, Round 1 https://t.co/TUgpn3iNoo\n\nRT @ThePSF: The 2021 Python Language Summit: Lightning Talks, Round 1 https://t.co/TUgpn3iNoo\n\nRT @WillingCarol: Thank you Steering Council members, past and present, and the #python core development community for proving good governa…\n\nThank you Steering Council members, past and present, and the #python core development community for proving good g… https://t.co/3KLy03Iaq3\n\nRT @WittyFoundation: Good day, here is the Witty Virtual Tech Up Program Schedule &amp; you can register for free via https://t.co/0dJ6EEmlIW t…\n\n#Day11 &amp; #Day12 \nWroking on interview questions.\nLearn about ds algo and some basic theory base Question.… https://t.co/BKUPq43NAL\n\n@shwars @Microsoft @ThePSF @Azure @github @frlazzeri If I use pictures of me then I predict I’ll create a Zombie image🧟‍♂️ 😂\n\n@PhilB_MSBuild @Microsoft @ThePSF @Azure @github @frlazzeri Looking forward to what you create based on this code!\n\n@PhilB_MSBuild @MicrosoftLearn @ThePSF @Azure @frlazzeri Wow, thank you!\n\nRT @pyladies: RT @ThePSF:\n\nWe have awarded &gt;651 PyCon scholarships &amp; travel grants to under-represented Pythonistas over the past 2 decades…\n\nCheck out my latest article: Background Tasks in FastAPI https://t.co/W8k8NwnmzZ via @LinkedIn \n\n@ThePSF @inPlainEngHQ @fastapi @realpython\n\nI want to learn Python from basic so could u pls let me know the site or give site address of learning python from… https://t.co/ovPwH6jgRc\n\nHi guys ... can u pls let me know the site from which I can learn and do exercise of #Python language and program… https://t.co/VTzwQjiFto\n\n@decarider @ThePSF Wow, okay.\n Python + Django in 6 months.\n\n"
     ]
    }
   ],
   "source": [
    "for tweet in tweets_data:\n",
    "    print(tweet.text)\n",
    "    print()"
   ]
  },
  {
   "cell_type": "code",
   "execution_count": 23,
   "metadata": {},
   "outputs": [
    {
     "output_type": "execute_result",
     "data": {
      "text/plain": [
       "50"
      ]
     },
     "metadata": {},
     "execution_count": 23
    }
   ],
   "source": [
    "len(tweets_data)"
   ]
  },
  {
   "cell_type": "code",
   "execution_count": 11,
   "metadata": {},
   "outputs": [],
   "source": [
    "import re\n",
    "tweet = \"RT @ThePSF: The PSF is featured in a Humble Book Bundle alongside the NoStarch Foundation! Check out all the titles available here: https:/…\""
   ]
  },
  {
   "cell_type": "code",
   "execution_count": 8,
   "metadata": {},
   "outputs": [
    {
     "output_type": "stream",
     "name": "stdout",
     "text": [
      "['RT', 'ThePSF', 'The', 'PSF', 'is', 'featured', 'in', 'a', 'Humble', 'Book', 'Bundle', 'alongside', 'the', 'NoStarch', 'Foundation', 'Check', 'out', 'all', 'the', 'titles', 'available', 'here', 'https']\n"
     ]
    }
   ],
   "source": [
    "lines = list()\n",
    "for line in [tweet]:    \n",
    "    words = line.split()\n",
    "    for w in words: \n",
    "       lines.append(w)\n",
    "lines = [re.sub(r'[^A-Za-z0-9]+', '', x) for x in lines]\n",
    "print(lines)\n"
   ]
  },
  {
   "cell_type": "code",
   "execution_count": 13,
   "metadata": {},
   "outputs": [
    {
     "output_type": "stream",
     "name": "stdout",
     "text": [
      "RTThePSFThePSFisfeaturedinaHumbleBookBundlealongsidetheNoStarchFoundationCheckoutallthetitlesavailableherehttps\n"
     ]
    }
   ],
   "source": [
    "for twt in [tweet]:\n",
    "    new = ''.join([re.sub(r'[^A-Za-z0-9]+', '', x) for x in twt])\n",
    "print(new)"
   ]
  },
  {
   "cell_type": "code",
   "execution_count": null,
   "metadata": {},
   "outputs": [],
   "source": []
  }
 ]
}